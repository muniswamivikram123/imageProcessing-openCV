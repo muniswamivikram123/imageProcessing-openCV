{
 "cells": [
  {
   "cell_type": "code",
   "execution_count": 7,
   "id": "6d84c5c0",
   "metadata": {},
   "outputs": [],
   "source": [
    "import numpy as np\n",
    "import cv2"
   ]
  },
  {
   "cell_type": "code",
   "execution_count": 12,
   "id": "da4eaed2",
   "metadata": {},
   "outputs": [],
   "source": [
    "def conv(x,h):\n",
    "    N = len(x)+len(h)-1\n",
    "    y = [0]*(N)\n",
    "    x = list(x)+[0]*(N-len(x))\n",
    "    h = h+[0]*(N-len(h))\n",
    "    for n in range(N):\n",
    "        for k in range(n+1):\n",
    "            y[n]+=x[k]*h[n-k]\n",
    "    return y\n",
    "x = [1,2,3]\n",
    "h = [0.5,0.5]"
   ]
  },
  {
   "cell_type": "code",
   "execution_count": 13,
   "id": "460251a4",
   "metadata": {},
   "outputs": [
    {
     "name": "stdout",
     "output_type": "stream",
     "text": [
      "[0.5, 1.5, 2.5, 1.5]\n"
     ]
    }
   ],
   "source": [
    "print(conv(x,h))"
   ]
  },
  {
   "cell_type": "code",
   "execution_count": 14,
   "id": "0491b9ee",
   "metadata": {},
   "outputs": [],
   "source": [
    "a=cv2.imread('baboon.png')\n",
    "a=cv2.resize(a,(64,64))"
   ]
  },
  {
   "cell_type": "code",
   "execution_count": 15,
   "id": "db376dea",
   "metadata": {},
   "outputs": [],
   "source": [
    "b,g,r = cv2.split(a)\n",
    "gray = np.uint8(np.double(b)*0.11 + np.double(g)*0.59+np.double(r))\n",
    "cv2.imshow('gr',gray)"
   ]
  },
  {
   "cell_type": "code",
   "execution_count": null,
   "id": "619cf3b9",
   "metadata": {},
   "outputs": [],
   "source": [
    "gr = np.reshape(gray,(gray.shape[0]*gray.shape[1]))\n",
    "re=conv(gr,h)\n",
    "re1=re[:len(re)-1]\n",
    "re1=np.reshape(gray,(gray.shape[0]*gray.shape[1]))\n",
    "cv2.imshow('op',np.uint8(re1))\n",
    "cv2.waitKey()"
   ]
  },
  {
   "cell_type": "code",
   "execution_count": null,
   "id": "b4264ebe",
   "metadata": {},
   "outputs": [],
   "source": [
    "import numpy as np\n",
    "import cv2\n",
    "def conv(x,h):\n",
    "    N = len(x)+len(h)-1\n",
    "    y = [0]*(N)\n",
    "    x = list(x)+[0]*(N-len(x))\n",
    "    h = h+[0]*(N-len(h))\n",
    "    for n in range(N):\n",
    "        for k in range(n+1):\n",
    "            y[n]+=x[k]*h[n-k]\n",
    "    return y\n",
    "x = [1,2,3]\n",
    "h = [0.5,0.5]\n",
    "print(conv(x,h))\n",
    "a=cv2.imread('baboon.png')\n",
    "#a=cv2.resize(a,(64,64))\n",
    "b,g,r = cv2.split(a)\n",
    "gray = np.uint8(np.double(b)*0.11 + np.double(g)*0.59+np.double(r))\n",
    "cv2.imshow('gr',gray)\n",
    "gr = np.reshape(gray,(gray.shape[0]*gray.shape[1]))\n",
    "re=conv(gr,h)\n",
    "re1=re[:len(re)-1]\n",
    "re1=np.reshape(gray,(gray.shape[0]*gray.shape[1]))\n",
    "cv2.imshow('op',np.uint8(re1))\n",
    "cv2.waitKey()"
   ]
  },
  {
   "cell_type": "code",
   "execution_count": null,
   "id": "7b862fbe",
   "metadata": {},
   "outputs": [],
   "source": []
  }
 ],
 "metadata": {
  "kernelspec": {
   "display_name": "Python 3 (ipykernel)",
   "language": "python",
   "name": "python3"
  },
  "language_info": {
   "codemirror_mode": {
    "name": "ipython",
    "version": 3
   },
   "file_extension": ".py",
   "mimetype": "text/x-python",
   "name": "python",
   "nbconvert_exporter": "python",
   "pygments_lexer": "ipython3",
   "version": "3.9.13"
  }
 },
 "nbformat": 4,
 "nbformat_minor": 5
}
