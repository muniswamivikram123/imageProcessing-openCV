{
 "cells": [
  {
   "cell_type": "code",
   "execution_count": 1,
   "id": "72dc9148",
   "metadata": {},
   "outputs": [],
   "source": [
    "#import opencv\n",
    "import cv2"
   ]
  },
  {
   "cell_type": "code",
   "execution_count": 2,
   "id": "3bb0b5ec",
   "metadata": {},
   "outputs": [],
   "source": [
    "#read the image\n",
    "image = cv2.imread(\"lenna.jpg\")"
   ]
  },
  {
   "cell_type": "code",
   "execution_count": 3,
   "id": "ce78c19f",
   "metadata": {},
   "outputs": [],
   "source": [
    "#display image\n",
    "cv2.imshow(\"first image\",image)\n",
    "cv2.waitKey()\n",
    "cv2.destroyAllWindows()"
   ]
  },
  {
   "cell_type": "code",
   "execution_count": 6,
   "id": "ad1d28cb",
   "metadata": {},
   "outputs": [],
   "source": [
    "image2 = cv2.imread(\"msd.jpg\")"
   ]
  },
  {
   "cell_type": "code",
   "execution_count": 7,
   "id": "1c688af9",
   "metadata": {},
   "outputs": [],
   "source": [
    "cv2.imshow(\"second image\",image2)\n",
    "cv2.waitKey()\n",
    "cv2.destroyAllWindows()"
   ]
  },
  {
   "cell_type": "code",
   "execution_count": null,
   "id": "72109f74",
   "metadata": {},
   "outputs": [],
   "source": []
  }
 ],
 "metadata": {
  "kernelspec": {
   "display_name": "Python 3 (ipykernel)",
   "language": "python",
   "name": "python3"
  },
  "language_info": {
   "codemirror_mode": {
    "name": "ipython",
    "version": 3
   },
   "file_extension": ".py",
   "mimetype": "text/x-python",
   "name": "python",
   "nbconvert_exporter": "python",
   "pygments_lexer": "ipython3",
   "version": "3.9.13"
  }
 },
 "nbformat": 4,
 "nbformat_minor": 5
}
